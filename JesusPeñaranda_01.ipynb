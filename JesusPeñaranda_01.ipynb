{
  "nbformat": 4,
  "nbformat_minor": 0,
  "metadata": {
    "colab": {
      "provenance": [],
      "authorship_tag": "ABX9TyMF1NoareayO3p6ke6458jh",
      "include_colab_link": true
    },
    "kernelspec": {
      "name": "python3",
      "display_name": "Python 3"
    },
    "language_info": {
      "name": "python"
    }
  },
  "cells": [
    {
      "cell_type": "markdown",
      "metadata": {
        "id": "view-in-github",
        "colab_type": "text"
      },
      "source": [
        "<a href=\"https://colab.research.google.com/github/SorryIWinxX/Proyect-Network/blob/Page/JesusPe%C3%B1aranda_01.ipynb\" target=\"_parent\"><img src=\"https://colab.research.google.com/assets/colab-badge.svg\" alt=\"Open In Colab\"/></a>"
      ]
    },
    {
      "cell_type": "code",
      "execution_count": 1,
      "metadata": {
        "id": "43BNamdd30zh"
      },
      "outputs": [],
      "source": [
        "import sympy as sp\n",
        "from sympy import *"
      ]
    },
    {
      "cell_type": "code",
      "source": [
        "# Definimos las variables y constantes\n",
        "t = sp.Symbol(\"t\")\n",
        "m = 2.5\n",
        "k = 20.0\n",
        "v0 = 2.0\n",
        "x0 = 0"
      ],
      "metadata": {
        "id": "Khd3aS-U33Q4"
      },
      "execution_count": 2,
      "outputs": []
    },
    {
      "cell_type": "code",
      "source": [
        "# 1. Ecuación de movimiento\n",
        "W = sp.sqrt(k/m)\n",
        "A = sp.sqrt(v0**(2) / W**(2))\n",
        "x_t = A * sp.cos(W * t + 0)"
      ],
      "metadata": {
        "id": "u88Z1q3w363f"
      },
      "execution_count": 3,
      "outputs": []
    },
    {
      "cell_type": "code",
      "source": [
        "print(\"El reusltado de la ecuacion de movimiento es:\", x_t)"
      ],
      "metadata": {
        "colab": {
          "base_uri": "https://localhost:8080/"
        },
        "id": "8HAxrA4c39Sf",
        "outputId": "983bd645-6d40-448a-b09b-d5c753d0fb61"
      },
      "execution_count": 4,
      "outputs": [
        {
          "output_type": "stream",
          "name": "stdout",
          "text": [
            "El reusltado de la ecuacion de movimiento es: 0.707106781186547*cos(2.82842712474619*t)\n"
          ]
        }
      ]
    },
    {
      "cell_type": "code",
      "source": [
        "# 2. Velocidad en t = 4.0 s\n",
        "t = 4.0\n",
        "v_t = -(A*W) * sp.sin(W * t)"
      ],
      "metadata": {
        "id": "A9Ury8hC4Gb5"
      },
      "execution_count": 5,
      "outputs": []
    },
    {
      "cell_type": "code",
      "source": [
        "print(f\"b) La velocidad en t = {t}s es {v_t} m/s\")"
      ],
      "metadata": {
        "colab": {
          "base_uri": "https://localhost:8080/"
        },
        "id": "PZkK-hiJ4KAa",
        "outputId": "46dab16a-5f49-4933-c1db-572bdb8415d0"
      },
      "execution_count": 6,
      "outputs": [
        {
          "output_type": "stream",
          "name": "stdout",
          "text": [
            "b) La velocidad en t = 4.0s es 1.89964136043035 m/s\n"
          ]
        }
      ]
    },
    {
      "cell_type": "code",
      "source": [
        "# 3. Amortiguamiento crítico\n",
        "W0 = sp.sqrt(k/m)"
      ],
      "metadata": {
        "id": "2cnkZd-84QlB"
      },
      "execution_count": 7,
      "outputs": []
    },
    {
      "cell_type": "code",
      "source": [
        "print(\"El valor de W0 es:\", W0)"
      ],
      "metadata": {
        "colab": {
          "base_uri": "https://localhost:8080/"
        },
        "id": "rwpDVYMrEqdD",
        "outputId": "3c1cb3e3-a402-4e6f-8e9b-f8382e16230f"
      },
      "execution_count": 8,
      "outputs": [
        {
          "output_type": "stream",
          "name": "stdout",
          "text": [
            "El valor de W0 es: 2.82842712474619\n"
          ]
        }
      ]
    },
    {
      "cell_type": "code",
      "source": [
        "b = sp.Symbol(\"b\")\n",
        "b = sp.solveset(Eq(b/(2*m),W0 ), b, domain=S.Reals)"
      ],
      "metadata": {
        "id": "3c3SUM4BEqfd"
      },
      "execution_count": 9,
      "outputs": []
    },
    {
      "cell_type": "code",
      "source": [
        "print(\"El valor de b para que B = W0 y halla amortiguamiento critico es:\", b)"
      ],
      "metadata": {
        "colab": {
          "base_uri": "https://localhost:8080/"
        },
        "id": "nRK-qhyg4S2C",
        "outputId": "8ab5c33e-fb10-4766-c97f-37ab48a33808"
      },
      "execution_count": 10,
      "outputs": [
        {
          "output_type": "stream",
          "name": "stdout",
          "text": [
            "El valor de b para que B = W0 y halla amortiguamiento critico es: {14.142135623731}\n"
          ]
        }
      ]
    },
    {
      "cell_type": "code",
      "source": [
        "# 4. Ecuación de movimiento con amortiguamiento\n",
        "t = sp.Symbol(\"t\")\n",
        "m = 2.5\n",
        "k = 20.0\n",
        "v0 = 2.0\n",
        "x0 = 0\n",
        "b = 14.142135623731\n",
        "bet = b/(2*m)\n",
        "C1 = x0\n",
        "C2 = x0*bet + v0\n",
        "x = (C1 + C2*t)*sp.exp(-(bet*t))\n",
        "print(bet)"
      ],
      "metadata": {
        "id": "tvtBjSYA4WsK",
        "colab": {
          "base_uri": "https://localhost:8080/"
        },
        "outputId": "5e0714ff-2d9c-486a-f39d-e2dde9a84836"
      },
      "execution_count": 11,
      "outputs": [
        {
          "output_type": "stream",
          "name": "stdout",
          "text": [
            "2.8284271247462\n"
          ]
        }
      ]
    },
    {
      "cell_type": "code",
      "source": [
        "print(f\"d) La ecuación de movimiento del sistema usando las condiciones iniciales es: x(t) = {x}\")"
      ],
      "metadata": {
        "colab": {
          "base_uri": "https://localhost:8080/"
        },
        "id": "HjxWe7zj4Yuq",
        "outputId": "5e27bda4-455e-4659-8a98-9383e7a3d6ed"
      },
      "execution_count": 12,
      "outputs": [
        {
          "output_type": "stream",
          "name": "stdout",
          "text": [
            "d) La ecuación de movimiento del sistema usando las condiciones iniciales es: x(t) = 2.0*t*exp(-2.8284271247462*t)\n"
          ]
        }
      ]
    },
    {
      "cell_type": "code",
      "source": [
        "# 5. Desplazamiento máximo y tiempo en que ocurre\n",
        "df = sp.diff(x, t)"
      ],
      "metadata": {
        "id": "g6fKgotu4bUC"
      },
      "execution_count": 13,
      "outputs": []
    },
    {
      "cell_type": "code",
      "source": [
        "print(df)"
      ],
      "metadata": {
        "colab": {
          "base_uri": "https://localhost:8080/"
        },
        "id": "JBl3n3GLSK2c",
        "outputId": "6d88c200-a572-4b40-eb9f-cff8c5a7ae4c"
      },
      "execution_count": 14,
      "outputs": [
        {
          "output_type": "stream",
          "name": "stdout",
          "text": [
            "-5.6568542494924*t*exp(-2.8284271247462*t) + 2.0*exp(-2.8284271247462*t)\n"
          ]
        }
      ]
    },
    {
      "cell_type": "code",
      "source": [
        "x_t2 = Eq(df,0)\n",
        "sp.solveset(x_t2,t)"
      ],
      "metadata": {
        "colab": {
          "base_uri": "https://localhost:8080/",
          "height": 37
        },
        "id": "Mc5k2OJAYBTM",
        "outputId": "df441574-5012-4ad8-a3fa-499412b6f6ed"
      },
      "execution_count": 15,
      "outputs": [
        {
          "output_type": "execute_result",
          "data": {
            "text/plain": [
              "{0.353553390593273}"
            ],
            "text/latex": "$\\displaystyle \\left\\{0.353553390593273\\right\\}$"
          },
          "metadata": {},
          "execution_count": 15
        }
      ]
    },
    {
      "cell_type": "code",
      "source": [
        "print(f\"e) El desplazamiento máximo es {df.subs(t,0.0565685424949236 )} m y ocurre en t = {sp.solveset(x_t2, t)} s\")"
      ],
      "metadata": {
        "colab": {
          "base_uri": "https://localhost:8080/"
        },
        "id": "1g8IhZdG4czi",
        "outputId": "c873ea2c-75bc-4018-b008-063c7b9222b0"
      },
      "execution_count": 16,
      "outputs": [
        {
          "output_type": "stream",
          "name": "stdout",
          "text": [
            "e) El desplazamiento máximo es 1.43160156546324 m y ocurre en t = {0.353553390593273} s\n"
          ]
        }
      ]
    }
  ]
}